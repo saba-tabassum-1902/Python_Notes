{
  "cells": [
    {
      "cell_type": "markdown",
      "metadata": {
        "id": "LQRAhzho5qx1"
      },
      "source": [
        "#Module-1-06-05-2025"
      ]
    },
    {
      "cell_type": "code",
      "execution_count": null,
      "metadata": {
        "id": "-BZHOWI35e-W"
      },
      "outputs": [],
      "source": [
        "#what is python?\n",
        "\"\"\"1.python is a most emrging,general purpose programming language.\n",
        "2.python is a high-level programming language\n",
        "3.python is object oriented programming language-->oop’s\n",
        "4.python is a dynamically typed programming language\n",
        "5.pyhton is an interpreted programming language.\"\"\""
      ]
    },
    {
      "cell_type": "code",
      "execution_count": null,
      "metadata": {
        "id": "HN9TYdNt5o9D"
      },
      "outputs": [],
      "source": [
        "\"\"\"Q)what is general purpose programming language?\n",
        "Q)what is the main purpose of python?\n",
        "A)manage the tons of data and AI development\n",
        "due to its more libraries-->we are using it for web and mobileapp development\n",
        "\"\"\""
      ]
    },
    {
      "cell_type": "code",
      "execution_count": null,
      "metadata": {
        "id": "aTKNfqPG6q8W"
      },
      "outputs": [],
      "source": [
        "#How many levels of programming language do we have?\n",
        "\"\"\"There are 2 levels\n",
        "1.lOW-LEVEL:- IS ALSO KNOWN AS machine friendly programming language\n",
        "⟶  each line of code is changing in to binary forms-->1's and 0's\n",
        "⟶ more lines of codes\n",
        "   ex:- c, c++,.net\"\"\"\n",
        "#2.High-level programming language:- is also known as\n",
        "\"\"\" ⟶ human friendly programming language\n",
        "    ⟶ codes are not changing into binary forms\n",
        "   ⟶ low lines of codes\n",
        "   ⟶ ex:- java, python\"\"\""
      ]
    },
    {
      "cell_type": "markdown",
      "metadata": {
        "id": "NVuuX4wn0crC"
      },
      "source": [
        "#07-05-2025"
      ]
    },
    {
      "cell_type": "code",
      "execution_count": null,
      "metadata": {
        "colab": {
          "base_uri": "https://localhost:8080/"
        },
        "id": "6izM4TuI0fUO",
        "outputId": "21b9bf49-29e7-48d4-d897-31720bdb6aee"
      },
      "outputs": [
        {
          "name": "stdout",
          "output_type": "stream",
          "text": [
            "Hello world!\n"
          ]
        }
      ],
      "source": [
        "#print a hello world in python\n",
        "print(\"Hello world!\")"
      ]
    },
    {
      "cell_type": "code",
      "execution_count": null,
      "metadata": {
        "id": "h4ZsdcHf1HjI"
      },
      "outputs": [],
      "source": [
        "#How many numerical dtypes do we have?\n",
        "#Thre are 3 types\n",
        "#1.integer---> Int-->A whole either +ve or -ve without decimal points is known as integer\n",
        "print(5)\n",
        "print(10)\n",
        "print(type(5))\n",
        "print(type(10))"
      ]
    },
    {
      "cell_type": "code",
      "execution_count": null,
      "metadata": {
        "colab": {
          "base_uri": "https://localhost:8080/"
        },
        "id": "h4wm4ASn1xfW",
        "outputId": "1ceccc98-4dd2-4184-811f-870414e64b77"
      },
      "outputs": [
        {
          "name": "stdout",
          "output_type": "stream",
          "text": [
            "5.5\n",
            "-2.5\n",
            "<class 'float'>\n",
            "<class 'float'>\n"
          ]
        }
      ],
      "source": [
        "#float:- -->float\n",
        "#A whole number either +ve or -ve with decimal point is known as float\n",
        "print(5.5)\n",
        "print(-2.5)\n",
        "#find the data type for above number\n",
        "print(type(5.5))\n",
        "print(type(-2.5))\n"
      ]
    },
    {
      "cell_type": "code",
      "execution_count": null,
      "metadata": {
        "colab": {
          "base_uri": "https://localhost:8080/"
        },
        "id": "PWx3Lyvu2zeN",
        "outputId": "f4b410b3-07ef-4db8-de86-02501c3cc61c"
      },
      "outputs": [
        {
          "name": "stdout",
          "output_type": "stream",
          "text": [
            "(2+5j)\n",
            "<class 'complex'>\n"
          ]
        }
      ],
      "source": [
        "#3.complex number:-a real number withits imaginary part is known as complex number-->complex\n",
        "#The imaginary part must have letter 'j' is know as iota\n",
        "print(2+5j)\n",
        "print(type(2+5j))\n"
      ]
    },
    {
      "cell_type": "markdown",
      "metadata": {
        "id": "C9P6ojqR4U1x"
      },
      "source": [
        "**Arthametic operators**"
      ]
    },
    {
      "cell_type": "code",
      "execution_count": null,
      "metadata": {
        "colab": {
          "base_uri": "https://localhost:8080/"
        },
        "id": "_jFsr1Nt38_g",
        "outputId": "c0f2871d-bdfc-413d-8c4b-693dc667ccd6"
      },
      "outputs": [
        {
          "name": "stdout",
          "output_type": "stream",
          "text": [
            "15\n",
            "<class 'int'>\n",
            "5\n",
            "<class 'int'>\n",
            "50\n",
            "<class 'int'>\n",
            "2.0\n",
            "<class 'float'>\n"
          ]
        }
      ],
      "source": [
        "#There are 7 arthametic operators\n",
        "#1.addition---> +\n",
        "print(10+5)\n",
        "print(type(10+5))\n",
        "#2.sunstaraction--> -\n",
        "print(10-5)\n",
        "print(type(10-5))\n",
        "#3.multiplication--->*\n",
        "print(10*5)\n",
        "print(type(10*5))\n",
        "#4.division----> /\n",
        "print(10/5)\n",
        "print(type(10/5))\n",
        "#Note:-the default data type for division is float bcz to get the proper co-efficient"
      ]
    },
    {
      "cell_type": "code",
      "execution_count": null,
      "metadata": {
        "id": "fAnv027p6Dy-"
      },
      "outputs": [],
      "source": [
        "#5.modulus-->%--->The remainder of the division\n",
        "print(10%2)\n",
        "print(15%2)\n",
        "print(6253465237%2)"
      ]
    },
    {
      "cell_type": "code",
      "execution_count": null,
      "metadata": {
        "colab": {
          "base_uri": "https://localhost:8080/"
        },
        "id": "hyHPTRgV67T9",
        "outputId": "5fbd9380-5c39-4230-d6c6-38cea75b63c4"
      },
      "outputs": [
        {
          "name": "stdout",
          "output_type": "stream",
          "text": [
            "8\n"
          ]
        }
      ],
      "source": [
        "#6.exponential----> **-->to the power off\n",
        "print(2**3)"
      ]
    },
    {
      "cell_type": "code",
      "execution_count": null,
      "metadata": {
        "colab": {
          "base_uri": "https://localhost:8080/"
        },
        "id": "3DkUe9SQ7Jfz",
        "outputId": "6c309467-3792-461a-dca4-453c531a9e92"
      },
      "outputs": [
        {
          "name": "stdout",
          "output_type": "stream",
          "text": [
            "3.3333333333333335\n",
            "3\n",
            "<class 'int'>\n"
          ]
        }
      ],
      "source": [
        "#7.floor division or integer division---> //\n",
        "#it ignores the values after decimal point\n",
        "print(10/3)\n",
        "print(10//3)\n",
        "print(type(10//3))"
      ]
    },
    {
      "cell_type": "markdown",
      "metadata": {
        "id": "wxdbhD-O7vRu"
      },
      "source": [
        "**floor value and ceil value**"
      ]
    },
    {
      "cell_type": "code",
      "execution_count": null,
      "metadata": {
        "id": "4sl9mqpS7yKB"
      },
      "outputs": [],
      "source": [
        "#The values before decimal point is known as floor values\n",
        "#what is ceil value?\n",
        "#The next upcoming number for a decimal number is known as ceil value"
      ]
    },
    {
      "cell_type": "code",
      "execution_count": null,
      "metadata": {
        "id": "J3NIYaKt8RuU"
      },
      "outputs": [],
      "source": [
        "#round():- this function is applicable only for decimal numbers\n",
        "#if the decimal values are greater then 0.5 it print ceil value\n",
        "#if the decimal values less then 0.5 then it print floor value"
      ]
    },
    {
      "cell_type": "code",
      "execution_count": null,
      "metadata": {
        "colab": {
          "base_uri": "https://localhost:8080/"
        },
        "id": "iIwEOJYk8nk-",
        "outputId": "6ab38a3a-9bfe-42dc-e2c5-6e6b8e6afe84"
      },
      "outputs": [
        {
          "name": "stdout",
          "output_type": "stream",
          "text": [
            "6\n",
            "9\n"
          ]
        }
      ],
      "source": [
        "print(round(6))\n",
        "print(round(9))"
      ]
    },
    {
      "cell_type": "code",
      "execution_count": null,
      "metadata": {
        "colab": {
          "base_uri": "https://localhost:8080/"
        },
        "id": "2BGVDAns8t8_",
        "outputId": "3f963034-166f-427d-88f9-0a8beab9b794"
      },
      "outputs": [
        {
          "name": "stdout",
          "output_type": "stream",
          "text": [
            "3\n",
            "9\n"
          ]
        }
      ],
      "source": [
        "print(round(2.56))\n",
        "print(round(9.456))"
      ]
    },
    {
      "cell_type": "code",
      "execution_count": null,
      "metadata": {
        "colab": {
          "base_uri": "https://localhost:8080/"
        },
        "id": "N5I9EuqH89m4",
        "outputId": "3a7d61fb-875b-4b88-bd9b-069290dc65cb"
      },
      "outputs": [
        {
          "name": "stdout",
          "output_type": "stream",
          "text": [
            "135356.66\n"
          ]
        }
      ],
      "source": [
        "#round(number,ndigit)\n",
        "print(round(135356.6553716547163,2))"
      ]
    },
    {
      "cell_type": "code",
      "execution_count": null,
      "metadata": {
        "colab": {
          "base_uri": "https://localhost:8080/"
        },
        "id": "5XFXX5Rw9c1I",
        "outputId": "891c6610-ceef-4d7c-8482-1cc8baaf32b3"
      },
      "outputs": [
        {
          "name": "stdout",
          "output_type": "stream",
          "text": [
            "54.624\n"
          ]
        }
      ],
      "source": [
        "print(round(54.623652,3))"
      ]
    },
    {
      "cell_type": "code",
      "execution_count": null,
      "metadata": {
        "colab": {
          "base_uri": "https://localhost:8080/"
        },
        "id": "CCO8pfSR9ty6",
        "outputId": "e2605a11-a56f-4630-9291-9893e86e9990"
      },
      "outputs": [
        {
          "name": "stdout",
          "output_type": "stream",
          "text": [
            "0.0\n"
          ]
        }
      ],
      "source": [
        "print(round(12345.98348,-5))\n",
        "#when we use -ve ndgits the entrie values after decimal point will become zero"
      ]
    },
    {
      "cell_type": "code",
      "execution_count": null,
      "metadata": {
        "id": "_1HSZPth-iFM"
      },
      "outputs": [],
      "source": [
        "#variables\n",
        "#types of errors\n",
        "#industrial rules to create variables\n",
        "#smart ways of writing variables\n",
        "#input()"
      ]
    },
    {
      "cell_type": "code",
      "execution_count": null,
      "metadata": {
        "id": "bWIlUK9T_JO_"
      },
      "outputs": [],
      "source": [
        "\"\"\"python-->B,I,A,E\n",
        "   nUMPY\n",
        "   PANDAS\n",
        "   STATS\n",
        "   SQL--MYSQL or Nosql--mongodb\n",
        "   Dv-seaborn matplot--> power Bi or tableau\n",
        "   Dpps\n",
        "   AI/ML\n",
        "   NLP\n",
        "   --->LLM, gen-ai-->AIFLOW-->AGENTIC AI"
      ]
    },
    {
      "cell_type": "code",
      "execution_count": null,
      "metadata": {
        "colab": {
          "base_uri": "https://localhost:8080/"
        },
        "id": "BYMjgZ90CAEn",
        "outputId": "98952240-4c0c-4190-cd99-2f4f9f9d0868"
      },
      "outputs": [
        {
          "name": "stdout",
          "output_type": "stream",
          "text": [
            "defg\n"
          ]
        }
      ],
      "source": [
        "s = \"abcdefgh\"\n",
        "print(s[-5:-1])\n"
      ]
    },
    {
      "cell_type": "code",
      "execution_count": null,
      "metadata": {
        "colab": {
          "base_uri": "https://localhost:8080/"
        },
        "id": "LcPC-NDyDq9Q",
        "outputId": "30125d9c-6bd2-48c8-daf6-33c8f2d12ca7"
      },
      "outputs": [
        {
          "name": "stdout",
          "output_type": "stream",
          "text": [
            "\n"
          ]
        }
      ],
      "source": [
        "s = \"racecar\"\n",
        "print(s[3:100:-1])"
      ]
    },
    {
      "cell_type": "code",
      "execution_count": null,
      "metadata": {
        "colab": {
          "base_uri": "https://localhost:8080/"
        },
        "id": "ChW7sqoSD8AB",
        "outputId": "eeaf32ae-ac2a-4ac7-c92b-7f02e17e3f71"
      },
      "outputs": [
        {
          "name": "stdout",
          "output_type": "stream",
          "text": [
            "califragilistic\n"
          ]
        }
      ],
      "source": [
        "s = \"supercalifragilisticexpialidocious\"\n",
        "print(s[5:20][::-3])"
      ]
    },
    {
      "cell_type": "code",
      "execution_count": null,
      "metadata": {
        "colab": {
          "base_uri": "https://localhost:8080/"
        },
        "id": "Ciyk5pgpEbls",
        "outputId": "31586945-df2e-4cbc-954b-d467978d89f3"
      },
      "outputs": [
        {
          "name": "stdout",
          "output_type": "stream",
          "text": [
            "2.67\n"
          ]
        }
      ],
      "source": [
        "#ROUND()if the decimal point is greater then 0.5\n",
        "print(round(2.675, 2))"
      ]
    },
    {
      "cell_type": "code",
      "execution_count": null,
      "metadata": {
        "colab": {
          "base_uri": "https://localhost:8080/"
        },
        "id": "y061yba_EyLc",
        "outputId": "1c9a7322-907f-4733-f996-bc629018c844"
      },
      "outputs": [
        {
          "name": "stdout",
          "output_type": "stream",
          "text": [
            "2.945\n"
          ]
        }
      ],
      "source": [
        "print(round(2.945,3))   #1,4,8\n"
      ]
    },
    {
      "cell_type": "code",
      "execution_count": null,
      "metadata": {
        "colab": {
          "base_uri": "https://localhost:8080/"
        },
        "id": "mOOLMkMUF203",
        "outputId": "30baaa2f-e2dd-4302-bd22-332d014e380d"
      },
      "outputs": [
        {
          "name": "stdout",
          "output_type": "stream",
          "text": [
            "2.0\n"
          ]
        }
      ],
      "source": [
        "print(round(2.4999, 0))\n"
      ]
    },
    {
      "cell_type": "code",
      "execution_count": null,
      "metadata": {
        "colab": {
          "base_uri": "https://localhost:8080/"
        },
        "id": "eiVZxOnoHkpb",
        "outputId": "45751941-d2e1-4a8b-b6ae-214a146b822e"
      },
      "outputs": [
        {
          "name": "stdout",
          "output_type": "stream",
          "text": [
            "00000hello\n"
          ]
        }
      ],
      "source": [
        "a = \"hello\"\n",
        "print(a.zfill(10))"
      ]
    },
    {
      "cell_type": "code",
      "execution_count": null,
      "metadata": {
        "colab": {
          "base_uri": "https://localhost:8080/"
        },
        "id": "zRjwpgwf2sh6",
        "outputId": "06154763-6d67-4a3b-8918-2ad5925394a2"
      },
      "outputs": [
        {
          "name": "stdout",
          "output_type": "stream",
          "text": [
            "hello good evening today we\n"
          ]
        }
      ],
      "source": [
        "a = \"hello good evening today we\"\n",
        "#every word replace with \"Hi\""
      ]
    },
    {
      "cell_type": "markdown",
      "metadata": {
        "id": "hBBeCUHfGPLc"
      },
      "source": [
        "**strings**"
      ]
    },
    {
      "cell_type": "code",
      "execution_count": null,
      "metadata": {
        "colab": {
          "base_uri": "https://localhost:8080/"
        },
        "id": "aMf8yUxFGV5Y",
        "outputId": "4f94ab15-c29e-4797-b651-e37dfb08f419"
      },
      "outputs": [
        {
          "name": "stdout",
          "output_type": "stream",
          "text": [
            "H\n",
            "w\n"
          ]
        }
      ],
      "source": [
        "a = \"Hello world!\"\n",
        "#print \"H\" from above string\n",
        "print(a[0])\n",
        "print(a[6])"
      ]
    },
    {
      "cell_type": "code",
      "execution_count": null,
      "metadata": {
        "colab": {
          "base_uri": "https://localhost:8080/"
        },
        "id": "dbXaRbCnHLSR",
        "outputId": "e93da785-b9f9-4c55-9897-7eb32761a954"
      },
      "outputs": [
        {
          "name": "stdout",
          "output_type": "stream",
          "text": [
            "world!\n"
          ]
        }
      ],
      "source": [
        "#when we access a range of characters from main string is known as substring\n",
        "#[start:end]\n",
        "print(a[6:12])  #always end is n+1"
      ]
    },
    {
      "cell_type": "code",
      "execution_count": null,
      "metadata": {
        "id": "vKvhFeJzHssL"
      },
      "outputs": [],
      "source": [
        "#print the even index position characters from above string?\n",
        "#[start:end:steps]\n",
        "print(a[0:12:2])\n",
        "#print the odd index position characters\n",
        "print(a[1:12:2])"
      ]
    },
    {
      "cell_type": "code",
      "execution_count": null,
      "metadata": {
        "id": "7PdMXBMLIS2D"
      },
      "outputs": [],
      "source": [
        "a = \"Hello world!\"\n",
        "#print the last character of my string\n",
        "print(a[11])"
      ]
    },
    {
      "cell_type": "markdown",
      "metadata": {
        "id": "EKkihSfoIhym"
      },
      "source": [
        "**-ve Indexing**"
      ]
    },
    {
      "cell_type": "code",
      "execution_count": null,
      "metadata": {
        "colab": {
          "base_uri": "https://localhost:8080/"
        },
        "id": "FsmmKNGeIlH1",
        "outputId": "b8a313e2-27a0-4c5f-f6a0-1cb2cf46cafd"
      },
      "outputs": [
        {
          "name": "stdout",
          "output_type": "stream",
          "text": [
            "!\n"
          ]
        }
      ],
      "source": [
        "#accessing the characters in string reverse direction isknown by using -ve indexing\n",
        "#[start]\n",
        "print(a[-1])"
      ]
    },
    {
      "cell_type": "code",
      "execution_count": null,
      "metadata": {
        "colab": {
          "base_uri": "https://localhost:8080/"
        },
        "id": "Wju8AVZ4JA8U",
        "outputId": "b6d3ba0b-2821-4148-80ac-10e9f0f92dde"
      },
      "outputs": [
        {
          "name": "stdout",
          "output_type": "stream",
          "text": [
            "!dlrow\n"
          ]
        }
      ],
      "source": [
        "a = \"Hello world!\"\n",
        "#!dlrow\n",
        "print(a[-1:-7:-1])\n",
        "#Note:default slicing direction is from left to right"
      ]
    },
    {
      "cell_type": "code",
      "execution_count": null,
      "metadata": {
        "colab": {
          "base_uri": "https://localhost:8080/"
        },
        "id": "5hH5Q0mcJwM0",
        "outputId": "a5981476-f8c3-49d9-b476-5276a03170c5"
      },
      "outputs": [
        {
          "name": "stdout",
          "output_type": "stream",
          "text": [
            "world\n"
          ]
        }
      ],
      "source": [
        "print(a[-6:-1])"
      ]
    },
    {
      "cell_type": "markdown",
      "metadata": {
        "id": "a18HMjSBJ_Yv"
      },
      "source": [
        "**default indexing**"
      ]
    },
    {
      "cell_type": "code",
      "execution_count": null,
      "metadata": {
        "colab": {
          "base_uri": "https://localhost:8080/"
        },
        "id": "KDu9tBmfKBr_",
        "outputId": "0ef7ed64-e78c-47c6-9e01-2c85bd49583a"
      },
      "outputs": [
        {
          "name": "stdout",
          "output_type": "stream",
          "text": [
            "Hello world!\n"
          ]
        }
      ],
      "source": [
        "a = \"Hello world!\"\n",
        "print(a[:])\n",
        "#by default start index can be 0 and end index -->len(string)"
      ]
    },
    {
      "cell_type": "code",
      "execution_count": null,
      "metadata": {
        "colab": {
          "base_uri": "https://localhost:8080/"
        },
        "id": "yZSLq9rXKdx_",
        "outputId": "ae643062-6ca0-4825-936e-ab46c27dbfd4"
      },
      "outputs": [
        {
          "name": "stdout",
          "output_type": "stream",
          "text": [
            "12\n"
          ]
        }
      ],
      "source": [
        "print(len(a))"
      ]
    },
    {
      "cell_type": "code",
      "execution_count": null,
      "metadata": {
        "colab": {
          "base_uri": "https://localhost:8080/"
        },
        "id": "7Abo-NUrKoT_",
        "outputId": "e6758288-304c-408f-a08e-f22e8636e50d"
      },
      "outputs": [
        {
          "name": "stdout",
          "output_type": "stream",
          "text": [
            "Hello world!\n"
          ]
        }
      ],
      "source": [
        "print(a[::])\n",
        "#by default start index can be 0 and end index -->len(string) and step is 1"
      ]
    },
    {
      "cell_type": "code",
      "execution_count": null,
      "metadata": {
        "colab": {
          "base_uri": "https://localhost:8080/"
        },
        "id": "Tym6j_h-K1jF",
        "outputId": "b5768004-36b5-4182-9581-af475558c6bf"
      },
      "outputs": [
        {
          "name": "stdout",
          "output_type": "stream",
          "text": [
            "Hlogy odeeigtdyw r on ihsrn ne\n",
            "el usgo vnn oa eaegigwt tigidx\n"
          ]
        }
      ],
      "source": [
        "a = \"Hello guys good evening today we are going with string index\"\n",
        "print(a[::2])\n",
        "print(a[1::2])"
      ]
    },
    {
      "cell_type": "code",
      "execution_count": null,
      "metadata": {
        "colab": {
          "base_uri": "https://localhost:8080/"
        },
        "id": "JCxL76SnLMsa",
        "outputId": "d4aabfc6-e4c7-4b2b-c403-90d1ffad2e8e"
      },
      "outputs": [
        {
          "name": "stdout",
          "output_type": "stream",
          "text": [
            "enter your string: malayalam\n",
            "malayalam\n"
          ]
        }
      ],
      "source": [
        "#check a string is palindrome or not?\n",
        "a = input('enter your string: ')\n",
        "print(a[::-1])\n"
      ]
    },
    {
      "cell_type": "markdown",
      "metadata": {
        "id": "oRO7rKj0Lzt6"
      },
      "source": [
        "**string methods**"
      ]
    },
    {
      "cell_type": "code",
      "execution_count": null,
      "metadata": {
        "id": "V-fOF0bBL2IN"
      },
      "outputs": [],
      "source": [
        "#what is string methods?\n",
        "#methods that are applied on string isknown as string methods\n",
        "#what are all methods i can apply on string?\n",
        "#by using dir()"
      ]
    },
    {
      "cell_type": "code",
      "execution_count": null,
      "metadata": {
        "colab": {
          "base_uri": "https://localhost:8080/"
        },
        "id": "9hNhWZhgNuC7",
        "outputId": "712339cf-50be-4d02-d86e-10329f12060f"
      },
      "outputs": [
        {
          "name": "stdout",
          "output_type": "stream",
          "text": [
            "['__add__', '__class__', '__contains__', '__delattr__', '__dir__', '__doc__', '__eq__', '__format__', '__ge__', '__getattribute__', '__getitem__', '__getnewargs__', '__getstate__', '__gt__', '__hash__', '__init__', '__init_subclass__', '__iter__', '__le__', '__len__', '__lt__', '__mod__', '__mul__', '__ne__', '__new__', '__reduce__', '__reduce_ex__', '__repr__', '__rmod__', '__rmul__', '__setattr__', '__sizeof__', '__str__', '__subclasshook__', 'capitalize', 'casefold', 'center', 'count', 'encode', 'endswith', 'expandtabs', 'find', 'format', 'format_map', 'index', 'isalnum', 'isalpha', 'isascii', 'isdecimal', 'isdigit', 'isidentifier', 'islower', 'isnumeric', 'isprintable', 'isspace', 'istitle', 'isupper', 'join', 'ljust', 'lower', 'lstrip', 'maketrans', 'partition', 'removeprefix', 'removesuffix', 'replace', 'rfind', 'rindex', 'rjust', 'rpartition', 'rsplit', 'rstrip', 'split', 'splitlines', 'startswith', 'strip', 'swapcase', 'title', 'translate', 'upper', 'zfill']\n"
          ]
        }
      ],
      "source": [
        "a = \"hello world!\"\n",
        "print(dir(a))\n",
        "\"\"\" 'capitalize', 'casefold', 'center', 'count', 'encode', 'endswith',\n",
        "'expandtabs', 'find', 'format', 'format_map', 'index', 'isalnum', 'isalpha',\n",
        "'isascii', 'isdecimal', 'isdigit', 'isidentifier', 'islower', 'isnumeric',\n",
        "'isprintable', 'isspace', 'istitle', 'isupper', 'join', 'ljust', 'lower',\n",
        "'lstrip', 'maketrans', 'partition', 'removeprefix', 'removesuffix', 'replace',\n",
        "'rfind', 'rindex', 'rjust', 'rpartition',\n",
        "'rsplit', 'rstrip', 'split', 'splitlines', 'startswith',\n",
        "'strip', 'swapcase', 'title', 'translate', 'upper', 'zfill' \"\"\""
      ]
    },
    {
      "cell_type": "code",
      "execution_count": null,
      "metadata": {
        "colab": {
          "base_uri": "https://localhost:8080/"
        },
        "id": "JiIfnG2rOD75",
        "outputId": "da297859-30e1-43f7-9a1d-d9fed1705127"
      },
      "outputs": [
        {
          "name": "stdout",
          "output_type": "stream",
          "text": [
            "Hello world!\n"
          ]
        }
      ],
      "source": [
        "#10 imp methods\n",
        "#1.capitalize():- it converts the 1st letter into uppercase\n",
        "a = \"hello world!\"\n",
        "print(a.capitalize())"
      ]
    },
    {
      "cell_type": "code",
      "execution_count": null,
      "metadata": {
        "colab": {
          "base_uri": "https://localhost:8080/"
        },
        "id": "-YLJtQFYOtyg",
        "outputId": "7e2db642-ef57-4e25-efe8-7270ac1cbaa2"
      },
      "outputs": [
        {
          "name": "stdout",
          "output_type": "stream",
          "text": [
            "hello world!\n",
            "HELLO WORLD!\n"
          ]
        }
      ],
      "source": [
        "#lower and upper()\n",
        "print(a.lower())\n",
        "print(a.upper())"
      ]
    },
    {
      "cell_type": "code",
      "execution_count": null,
      "metadata": {
        "colab": {
          "base_uri": "https://localhost:8080/"
        },
        "id": "z99n676wOxmg",
        "outputId": "9f2e88ee-2f82-4609-8f6e-083483737d27"
      },
      "outputs": [
        {
          "name": "stdout",
          "output_type": "stream",
          "text": [
            "hello Universe!\n"
          ]
        }
      ],
      "source": [
        "#replace() replace old string with new string\n",
        "a = \"hello world!\"\n",
        "print(a.replace('world!','Universe!'))"
      ]
    },
    {
      "cell_type": "code",
      "execution_count": null,
      "metadata": {
        "colab": {
          "base_uri": "https://localhost:8080/"
        },
        "id": "Ue63bOrYPIsm",
        "outputId": "c72c13b9-12f6-4f86-ce13-871031c0480f"
      },
      "outputs": [
        {
          "name": "stdout",
          "output_type": "stream",
          "text": [
            "Hello World!\n"
          ]
        }
      ],
      "source": [
        "#i want 1st letter in capital after every space\n",
        "#title()\n",
        "print(a.title())\n"
      ]
    },
    {
      "cell_type": "code",
      "execution_count": null,
      "metadata": {
        "colab": {
          "base_uri": "https://localhost:8080/"
        },
        "id": "XJixNr0UPS6m",
        "outputId": "14751d9c-c837-4d65-b018-ea42f2307fc0"
      },
      "outputs": [
        {
          "name": "stdout",
          "output_type": "stream",
          "text": [
            "Hello world1\n",
            "      Hello world1    \n"
          ]
        }
      ],
      "source": [
        "a = \"      Hello world1    \"\n",
        "#strip()\n",
        "print(a.strip())\n",
        "print(a)"
      ]
    },
    {
      "cell_type": "code",
      "execution_count": null,
      "metadata": {
        "colab": {
          "base_uri": "https://localhost:8080/"
        },
        "id": "rtOgpCuqPhLi",
        "outputId": "6d20b825-8202-40a7-e481-2ee8ecdf3ee7"
      },
      "outputs": [
        {
          "name": "stdout",
          "output_type": "stream",
          "text": [
            "Hello world1    \n",
            "      Hello world1\n"
          ]
        }
      ],
      "source": [
        "#lstrip()\n",
        "print(a.lstrip())\n",
        "print(a.rstrip())"
      ]
    },
    {
      "cell_type": "code",
      "execution_count": null,
      "metadata": {
        "colab": {
          "base_uri": "https://localhost:8080/"
        },
        "id": "1ci5OC9fPtUR",
        "outputId": "7d0cca1e-c5ff-41ce-dc9d-111424ac1351"
      },
      "outputs": [
        {
          "name": "stdout",
          "output_type": "stream",
          "text": [
            "00000hello\n"
          ]
        }
      ],
      "source": [
        "#zfill(). zero fill--> fills the zeros infront of string to match length of string.\n",
        "a = \"hello\"\n",
        "print(a.zfill(10))"
      ]
    },
    {
      "cell_type": "markdown",
      "metadata": {
        "id": "QbUSEUFkTNT1"
      },
      "source": [
        "**Escape characters**"
      ]
    },
    {
      "cell_type": "code",
      "execution_count": null,
      "metadata": {
        "colab": {
          "base_uri": "https://localhost:8080/"
        },
        "id": "zuIe_u2TTSrV",
        "outputId": "87126f2c-fd95-46c2-cbc7-e17d448c3199"
      },
      "outputs": [
        {
          "name": "stdout",
          "output_type": "stream",
          "text": [
            "Dwayne \"The Rock\" Jhonson\n"
          ]
        }
      ],
      "source": [
        "#To print illegal characters inside a string  we use escape characters\n",
        "#it can be represented with backward slash(\\)\n",
        "a = \"Dwayne \\\"The Rock\\\" Jhonson\"\n",
        "print(a)"
      ]
    },
    {
      "cell_type": "markdown",
      "metadata": {
        "id": "ALlYUU1UUGwX"
      },
      "source": [
        "string formatting methods"
      ]
    },
    {
      "cell_type": "code",
      "execution_count": null,
      "metadata": {
        "colab": {
          "base_uri": "https://localhost:8080/"
        },
        "id": "X3Ao78G-UJt9",
        "outputId": "c7784cbd-6883-4955-b5fe-4f3b003888a9"
      },
      "outputs": [
        {
          "name": "stdout",
          "output_type": "stream",
          "text": [
            "my age is 10 years old\n"
          ]
        }
      ],
      "source": [
        "age = 10\n",
        "txt = \"my age is {} years old\"\n",
        "#There are 3 string methods\n",
        "print(txt.format(age))"
      ]
    },
    {
      "cell_type": "code",
      "execution_count": null,
      "metadata": {
        "colab": {
          "base_uri": "https://localhost:8080/"
        },
        "id": "nAYH5NZeUuwI",
        "outputId": "4108eaa3-1112-49cb-df35-7236a32cb42a"
      },
      "outputs": [
        {
          "name": "stdout",
          "output_type": "stream",
          "text": [
            "my age is 10 years old\n"
          ]
        }
      ],
      "source": [
        "age = 10\n",
        "txt = \"my age is {} years old\".format(age)\n",
        "print(txt)"
      ]
    },
    {
      "cell_type": "code",
      "execution_count": null,
      "metadata": {
        "colab": {
          "base_uri": "https://localhost:8080/"
        },
        "id": "m3RBe2WsU26c",
        "outputId": "113f95fe-ee8e-490d-86e4-2f851cb71080"
      },
      "outputs": [
        {
          "name": "stdout",
          "output_type": "stream",
          "text": [
            "my age is 10 years old\n"
          ]
        }
      ],
      "source": [
        "#f'string{format} method\n",
        "age = 10\n",
        "txt = f\"my age is {age} years old\"\n",
        "print(txt)"
      ]
    },
    {
      "cell_type": "code",
      "execution_count": null,
      "metadata": {
        "id": "A8a_8HwHVDGr"
      },
      "outputs": [],
      "source": [
        "product = input('enter product name')\n",
        "quantity = int(input('enter quantity of product '))\n",
        "price_each = int(input('enter price '))\n",
        "notification=f'''your order for {product}\n",
        "has confirmed with an quantity of {quantity} and Total is {price_each*quantity}'''\n",
        "print(notification)"
      ]
    },
    {
      "cell_type": "code",
      "execution_count": null,
      "metadata": {
        "id": "Y84Js5-iWSMe"
      },
      "outputs": [],
      "source": [
        "#1.what is a string?\n",
        "#2.Types of strings\n",
        "#3.indexing and slicing\n",
        "#4.string methods\n",
        "#5.string format methods\n",
        "#6.esacpe characters"
      ]
    },
    {
      "cell_type": "code",
      "execution_count": null,
      "metadata": {
        "colab": {
          "base_uri": "https://localhost:8080/"
        },
        "id": "EWhh9HUYWlKz",
        "outputId": "f4a06cce-9a39-4eae-af23-a3641b61a7cf"
      },
      "outputs": [
        {
          "name": "stdout",
          "output_type": "stream",
          "text": [
            "Hello world!    \n",
            "     Hello world!\n"
          ]
        }
      ],
      "source": [
        "#string is ordered\n",
        "a = \"     Hello world!    \"\n",
        "print(a.lstrip())\n",
        "print(a.rstrip())\n"
      ]
    },
    {
      "cell_type": "markdown",
      "metadata": {
        "id": "axycLYqqoX9x"
      },
      "source": [
        "#12-05-2025"
      ]
    },
    {
      "cell_type": "code",
      "execution_count": null,
      "metadata": {
        "colab": {
          "base_uri": "https://localhost:8080/"
        },
        "id": "ZJCqKL_-oXaO",
        "outputId": "fd609cf6-bc26-4c6e-e554-cefded1c0407"
      },
      "outputs": [
        {
          "name": "stdout",
          "output_type": "stream",
          "text": [
            "5\n",
            "go up\n",
            "go down\n",
            "========rep completed========== 0\n",
            "go up\n",
            "go down\n",
            "========rep completed========== 1\n",
            "go up\n",
            "go down\n",
            "========rep completed========== 2\n",
            "go up\n",
            "go down\n",
            "========rep completed========== 3\n",
            "go up\n",
            "go down\n",
            "========rep completed========== 4\n",
            "go up\n",
            "go down\n",
            "========rep completed========== 5\n"
          ]
        }
      ],
      "source": [
        "#write a program to count down the pushups\n",
        "target = int(input())\n",
        "intial = 0\n",
        "while intial <= target:\n",
        "  print('go up')\n",
        "  print('go down')\n",
        "  print('========rep completed==========',intial)\n",
        "  intial = intial + 1\n"
      ]
    },
    {
      "cell_type": "code",
      "execution_count": null,
      "metadata": {
        "colab": {
          "base_uri": "https://localhost:8080/"
        },
        "id": "VqeoyqnhotBL",
        "outputId": "f6aef693-fd25-4785-f232-fbfee32c8c43"
      },
      "outputs": [
        {
          "name": "stdout",
          "output_type": "stream",
          "text": [
            "True\n",
            "True\n",
            "True\n",
            "True\n",
            "True\n",
            "False\n"
          ]
        }
      ],
      "source": [
        "print(1<=5)\n",
        "print(2<=5)\n",
        "print(3<=5)\n",
        "print(4<=5)\n",
        "print(5<=5)\n",
        "print(6<=5)"
      ]
    },
    {
      "cell_type": "code",
      "execution_count": null,
      "metadata": {
        "id": "QkLY4Sxrozxm"
      },
      "outputs": [],
      "source": [
        "#write a simple program to run a lift?\n",
        "user = int(input('enter your floor number '))\n",
        "intial = 0\n",
        "while intial <= user:\n",
        "  print(\"you are at floor\", intial)\n",
        "  intial = intial + 1"
      ]
    },
    {
      "cell_type": "code",
      "execution_count": null,
      "metadata": {
        "id": "Gk8-57qJrXtJ"
      },
      "outputs": [],
      "source": [
        "#what are all control structures of while loop?\n",
        "#break\n",
        "#continue\n",
        "#pass:- null operator when executes nothing will happens"
      ]
    },
    {
      "cell_type": "code",
      "execution_count": null,
      "metadata": {
        "colab": {
          "base_uri": "https://localhost:8080/"
        },
        "id": "djMyUfGIrzBP",
        "outputId": "11c3e94f-a977-474c-cd4b-ffa1186bf1b5"
      },
      "outputs": [
        {
          "name": "stdout",
          "output_type": "stream",
          "text": [
            "enter your floor number 6\n",
            "you are at floor 0\n",
            "you are at floor 1\n",
            "you are at floor 2\n",
            "you are at floor 3\n"
          ]
        }
      ],
      "source": [
        "user = int(input('enter your floor number '))\n",
        "intial = 0\n",
        "while intial <= user:\n",
        "  print(\"you are at floor\", intial)\n",
        "  if intial == 3:\n",
        "    break\n",
        "  intial = intial+ 1\n"
      ]
    },
    {
      "cell_type": "code",
      "execution_count": null,
      "metadata": {
        "colab": {
          "background_save": true
        },
        "id": "vwP3JuKdsLhH"
      },
      "outputs": [],
      "source": [
        "user = int(input('enter your floor number '))\n",
        "intial = 0\n",
        "while intial <= user:\n",
        "  print(\"you are at floor\", intial)\n",
        "  if intial == 3:\n",
        "    continue\n",
        "  intial = intial+ 1\n",
        "\n"
      ]
    },
    {
      "cell_type": "markdown",
      "source": [
        "#13-05-2025"
      ],
      "metadata": {
        "id": "-jTgHx0NpRmO"
      }
    },
    {
      "cell_type": "markdown",
      "source": [
        "**FOR LOOP**"
      ],
      "metadata": {
        "id": "KVQu5-JKp2Gz"
      }
    },
    {
      "cell_type": "code",
      "source": [
        "#what is for loop?\n",
        "#i want to run a set of instructions in my iterables(collections)-->[list,tuple,set,dict,array]\n",
        "#where this rules can be applicable for each and every element"
      ],
      "metadata": {
        "id": "syFNS5g-qFr_"
      },
      "execution_count": null,
      "outputs": []
    },
    {
      "cell_type": "code",
      "source": [
        "l = [1,2,3,4,5,6,7,8,9]\n",
        "#print the even number data from above list.\n",
        "for i in l:\n",
        "  if i%2==0:\n",
        "    print(i,end =\" \")"
      ],
      "metadata": {
        "colab": {
          "base_uri": "https://localhost:8080/"
        },
        "id": "8n-j4GSkruOY",
        "outputId": "4524d25e-3b4a-4d7c-e5d6-e1e2c2ffde1f"
      },
      "execution_count": null,
      "outputs": [
        {
          "output_type": "stream",
          "name": "stdout",
          "text": [
            "2 4 6 8 "
          ]
        }
      ]
    },
    {
      "cell_type": "code",
      "source": [
        "#How the iterator has built?\n",
        "#with 2 protocols\n",
        "#__iter__  and __next__"
      ],
      "metadata": {
        "id": "sQ7hfFcdsR35"
      },
      "execution_count": null,
      "outputs": []
    },
    {
      "cell_type": "code",
      "source": [
        "a = [1,2,3,4,5,6]\n",
        "#print the multiples of 2 from above list\n",
        "#2,4,6,8,10,12\n",
        "#print(a*2)\n",
        "for i in a:\n",
        "  print(i*2,end=\" \")\n"
      ],
      "metadata": {
        "colab": {
          "base_uri": "https://localhost:8080/"
        },
        "id": "W4GuMo2nvIET",
        "outputId": "cbbbebd1-1ceb-49c8-bee0-aecb608bd47c"
      },
      "execution_count": null,
      "outputs": [
        {
          "output_type": "stream",
          "name": "stdout",
          "text": [
            "2 4 6 8 10 12 "
          ]
        }
      ]
    },
    {
      "cell_type": "code",
      "source": [
        "b = ['apple','banana','orange','kiwi','mango']\n",
        "#print the fruits which is having letter 'a'.\n",
        "for i in b:\n",
        "  if 'g' in i:\n",
        "    print(i)"
      ],
      "metadata": {
        "colab": {
          "base_uri": "https://localhost:8080/"
        },
        "id": "V6N0SlxPvyN5",
        "outputId": "7d8abeb9-6d40-4823-b671-031299347947"
      },
      "execution_count": null,
      "outputs": [
        {
          "output_type": "stream",
          "name": "stdout",
          "text": [
            "orange\n",
            "mango\n"
          ]
        }
      ]
    },
    {
      "cell_type": "markdown",
      "source": [
        "**control structures of for loop**"
      ],
      "metadata": {
        "id": "FdEykm-dwuhS"
      }
    },
    {
      "cell_type": "code",
      "source": [
        "#break, continue, pass"
      ],
      "metadata": {
        "id": "ilPUm9sCwMvj"
      },
      "execution_count": null,
      "outputs": []
    },
    {
      "cell_type": "code",
      "source": [
        "#break:- it stops the iterations irrespective of items in the collection"
      ],
      "metadata": {
        "id": "SD8_Jkurw9II"
      },
      "execution_count": null,
      "outputs": []
    },
    {
      "cell_type": "code",
      "source": [
        "a = [1,2,3,4,5,6,7,8,9]\n",
        "#break the loop when it reach '4'\n",
        "for j in a:\n",
        "  if j ==4 or j ==7:\n",
        "    break\n",
        "  print(j, end =\" \")"
      ],
      "metadata": {
        "colab": {
          "base_uri": "https://localhost:8080/"
        },
        "id": "hTPpqajkxMA6",
        "outputId": "5cfcc127-abf4-4a1b-c04a-86d22752cfad"
      },
      "execution_count": null,
      "outputs": [
        {
          "output_type": "stream",
          "name": "stdout",
          "text": [
            "1 2 3 "
          ]
        }
      ]
    },
    {
      "cell_type": "code",
      "source": [
        "#continue:- it skips the current iteration and moves to next iteration\n",
        "#i dont want to print 2,6,8 from the above list\n",
        "for j in a:\n",
        "  if j ==2 or j==4 or j ==6:\n",
        "    continue\n",
        "  print(j,end=\" \")"
      ],
      "metadata": {
        "colab": {
          "base_uri": "https://localhost:8080/"
        },
        "id": "zSUCJZVzxrym",
        "outputId": "c0e97c43-34e2-4865-b676-e030beba6fef"
      },
      "execution_count": null,
      "outputs": [
        {
          "output_type": "stream",
          "name": "stdout",
          "text": [
            "1 3 5 7 8 9 "
          ]
        }
      ]
    },
    {
      "cell_type": "code",
      "source": [
        "for j in a:\n",
        "  if j ==2 or j==4 or j ==6:\n",
        "    pass"
      ],
      "metadata": {
        "id": "hs40NVlnyKrT"
      },
      "execution_count": null,
      "outputs": []
    },
    {
      "cell_type": "code",
      "source": [
        "i = 0\n",
        "while i <= 10:\n",
        " print(i)\n",
        " i = i + 1"
      ],
      "metadata": {
        "id": "VgVSBPp8z75-"
      },
      "execution_count": null,
      "outputs": []
    },
    {
      "cell_type": "markdown",
      "source": [
        "**range(start,end,step)**"
      ],
      "metadata": {
        "id": "Oi8Pamw10atR"
      }
    },
    {
      "cell_type": "code",
      "source": [
        "for i in range(10):\n",
        "  print(i,end=\" \")"
      ],
      "metadata": {
        "colab": {
          "base_uri": "https://localhost:8080/"
        },
        "id": "SxpQdRm40Bdn",
        "outputId": "6db848dd-cc3a-4db8-f699-502bd36ba584"
      },
      "execution_count": null,
      "outputs": [
        {
          "output_type": "stream",
          "name": "stdout",
          "text": [
            "0 1 2 3 4 5 6 7 8 9 "
          ]
        }
      ]
    },
    {
      "cell_type": "code",
      "source": [
        "#print a range of numbers from 20 to 40:\n",
        "#syntax:-(start,end)\n",
        "for i in range(20,41):\n",
        "  print(i,end=\" \")"
      ],
      "metadata": {
        "colab": {
          "base_uri": "https://localhost:8080/"
        },
        "id": "Egxwo9O80w0d",
        "outputId": "10630ece-5c1a-47d4-da2e-9f3aaa31a31b"
      },
      "execution_count": null,
      "outputs": [
        {
          "output_type": "stream",
          "name": "stdout",
          "text": [
            "20 21 22 23 24 25 26 27 28 29 30 31 32 33 34 35 36 37 38 39 40 "
          ]
        }
      ]
    },
    {
      "cell_type": "code",
      "source": [
        "#print a range of even numbers upto 100?\n",
        "#(start,end,step)\n",
        "for i in range(1,101,2):\n",
        "  print(i,end=\" \")"
      ],
      "metadata": {
        "colab": {
          "base_uri": "https://localhost:8080/"
        },
        "id": "bCkJa82z1Gmb",
        "outputId": "53e593ed-feaf-4075-b670-669ce279507b"
      },
      "execution_count": null,
      "outputs": [
        {
          "output_type": "stream",
          "name": "stdout",
          "text": [
            "1 3 5 7 9 11 13 15 17 19 21 23 25 27 29 31 33 35 37 39 41 43 45 47 49 51 53 55 57 59 61 63 65 67 69 71 73 75 77 79 81 83 85 87 89 91 93 95 97 99 "
          ]
        }
      ]
    },
    {
      "cell_type": "code",
      "source": [
        "#calculate the sum of numbers from 1 to 10 using for loop?\n",
        "sum = 0\n",
        "for i in range(1,11):\n",
        "  sum = sum+i\n",
        "print(sum)\n"
      ],
      "metadata": {
        "colab": {
          "base_uri": "https://localhost:8080/"
        },
        "id": "tU6riuos14XR",
        "outputId": "68f36a6d-5693-4e59-c035-bbba636323da"
      },
      "execution_count": null,
      "outputs": [
        {
          "output_type": "stream",
          "name": "stdout",
          "text": [
            "55\n"
          ]
        }
      ]
    },
    {
      "cell_type": "code",
      "source": [
        "a =[1,2,3,4,5,6,7,8,9]\n",
        "#calculate the product of elements in above list?\n",
        "product = 1\n",
        "for i in a:\n",
        "  product = product*i\n",
        "  print(product)"
      ],
      "metadata": {
        "id": "3AuHyFsW2EA5"
      },
      "execution_count": null,
      "outputs": []
    },
    {
      "cell_type": "code",
      "source": [
        "#print the numbers in reverse from 10 to 1\n",
        "for i in range(10,0,-1):\n",
        "  print(i)"
      ],
      "metadata": {
        "colab": {
          "base_uri": "https://localhost:8080/"
        },
        "id": "DwqNXKlF3tn4",
        "outputId": "3d5ba3c9-8be2-44f9-8fda-f0fadfdbfd71"
      },
      "execution_count": null,
      "outputs": [
        {
          "output_type": "stream",
          "name": "stdout",
          "text": [
            "10\n",
            "9\n",
            "8\n",
            "7\n",
            "6\n",
            "5\n",
            "4\n",
            "3\n",
            "2\n",
            "1\n"
          ]
        }
      ]
    },
    {
      "cell_type": "code",
      "source": [
        "a = [1,2,45,63,54,76,98,23,54,60]\n",
        "#find the largets number from above list.\n",
        "large = a[0]\n",
        "for i in a:\n",
        "  if i>large:\n",
        "    large = i\n",
        "print(large)"
      ],
      "metadata": {
        "colab": {
          "base_uri": "https://localhost:8080/"
        },
        "id": "niswdBf34Jqk",
        "outputId": "5eaad4c5-3028-45aa-b53e-cf58c946b0f0"
      },
      "execution_count": null,
      "outputs": [
        {
          "output_type": "stream",
          "name": "stdout",
          "text": [
            "98\n"
          ]
        }
      ]
    },
    {
      "cell_type": "code",
      "source": [
        "print(max(a))"
      ],
      "metadata": {
        "colab": {
          "base_uri": "https://localhost:8080/"
        },
        "id": "docIz_jl464Q",
        "outputId": "80e53f64-372e-4120-d233-71468974f3b8"
      },
      "execution_count": null,
      "outputs": [
        {
          "output_type": "stream",
          "name": "stdout",
          "text": [
            "98\n"
          ]
        }
      ]
    },
    {
      "cell_type": "code",
      "source": [
        "#print all the uppercase letter from the string\n",
        "#\"Hello World!\""
      ],
      "metadata": {
        "id": "Mv2BdsTu48eY"
      },
      "execution_count": null,
      "outputs": []
    },
    {
      "cell_type": "code",
      "source": [
        "#Calulate the factorials of the number ?-->5-->   5*4*3*2*1\n",
        "#find the all prime numbers from 1 to 50 -\n",
        "#print the numbers divisible with 3 or 5  in the range 1 to 20:\n",
        "#print a fibonacci series  up to 10th interval ?\n",
        "#1, 1, 2, 3,5,8,13,"
      ],
      "metadata": {
        "id": "z4k5JAz85K1O"
      },
      "execution_count": null,
      "outputs": []
    },
    {
      "cell_type": "markdown",
      "source": [
        "#14-05-2025"
      ],
      "metadata": {
        "id": "sQAS9aixzlsq"
      }
    },
    {
      "cell_type": "markdown",
      "source": [
        "**Collections or Iterables**"
      ],
      "metadata": {
        "id": "Bk177DwKzoiH"
      }
    },
    {
      "cell_type": "code",
      "source": [
        "#what is collection?\n",
        "#collection is having 2 types of data Homogenous data and Heterogenous data\n",
        "#what is homogenous data?\n",
        "#collection is having same data type\n",
        "#ex:- lis is having integers\n",
        "#Hetergenous data:- collection is multiple data inside it\n",
        "#How many types of collections do we have?\n",
        "#There 4 types\n",
        "#1.List\n",
        "#2.Tuple\n",
        "#3.set\n",
        "#4.dictionary"
      ],
      "metadata": {
        "id": "gDPIBQJizsPI"
      },
      "execution_count": null,
      "outputs": []
    },
    {
      "cell_type": "markdown",
      "source": [
        "**List**"
      ],
      "metadata": {
        "id": "I09ZBe9M0sao"
      }
    },
    {
      "cell_type": "code",
      "source": [
        "#what is list? or define a list or how can we declare a list?\n",
        "#list --> []\n",
        "#list defined as ordered, mutable, and it allows the duplicate data"
      ],
      "metadata": {
        "id": "FKoDh25p0uVJ"
      },
      "execution_count": null,
      "outputs": []
    },
    {
      "cell_type": "markdown",
      "source": [
        "**list allows the duplicate data**"
      ],
      "metadata": {
        "id": "OOV2EHM11d5m"
      }
    },
    {
      "cell_type": "code",
      "source": [
        "l1 = ['apple','banana','pineapple','kiwi','orange','apple','banana','apple']\n",
        "#what is length of list l1?\n",
        "print(len(l1))\n",
        "print(type(l1))\n",
        "print(l1)"
      ],
      "metadata": {
        "colab": {
          "base_uri": "https://localhost:8080/"
        },
        "id": "t4vO57Yd1gfM",
        "outputId": "9a573e86-667c-42f9-bacd-07e5c2a33d30"
      },
      "execution_count": null,
      "outputs": [
        {
          "output_type": "stream",
          "name": "stdout",
          "text": [
            "8\n",
            "<class 'list'>\n",
            "['apple', 'banana', 'pineapple', 'kiwi', 'orange', 'apple', 'banana', 'apple']\n"
          ]
        }
      ]
    },
    {
      "cell_type": "markdown",
      "source": [
        "**List is ordered**"
      ],
      "metadata": {
        "id": "joLsuLMs1-lU"
      }
    },
    {
      "cell_type": "code",
      "source": [
        "#what is ordered means?\n",
        "#each character in the list is having sequence of index position numbers\n",
        "#from list l1 print kiwi\n",
        "#syntax[index]\n",
        "print(l1[3])"
      ],
      "metadata": {
        "colab": {
          "base_uri": "https://localhost:8080/"
        },
        "id": "ZGvYRsWJ12RR",
        "outputId": "5e523132-7ca6-4d34-81df-a432d43f987e"
      },
      "execution_count": null,
      "outputs": [
        {
          "output_type": "stream",
          "name": "stdout",
          "text": [
            "kiwi\n"
          ]
        }
      ]
    },
    {
      "cell_type": "code",
      "source": [
        "#print a range of characters 'pineapple', 'kiwi', 'orange' from l1\n",
        "#[start:end index]\n",
        "print(l1[2:5])   #slicing will stops always before one index position number\n"
      ],
      "metadata": {
        "colab": {
          "base_uri": "https://localhost:8080/"
        },
        "id": "0xRNep5p2rjw",
        "outputId": "c3fb937d-6d9d-4506-ce99-e31b80674c57"
      },
      "execution_count": null,
      "outputs": [
        {
          "output_type": "stream",
          "name": "stdout",
          "text": [
            "['pineapple', 'kiwi', 'orange']\n"
          ]
        }
      ]
    },
    {
      "cell_type": "code",
      "source": [
        "#print the even elements from the list l1?\n",
        "print(l1[0:9:2])\n",
        "#print the odd index position character?\n",
        "print(l1[1:9:2])"
      ],
      "metadata": {
        "colab": {
          "base_uri": "https://localhost:8080/"
        },
        "id": "5_z7jKcr3LKf",
        "outputId": "2ed1c89f-6a76-4028-943b-ef37794e770a"
      },
      "execution_count": null,
      "outputs": [
        {
          "output_type": "stream",
          "name": "stdout",
          "text": [
            "['apple', 'pineapple', 'orange', 'banana']\n",
            "['banana', 'kiwi', 'apple', 'apple']\n"
          ]
        }
      ]
    },
    {
      "cell_type": "markdown",
      "source": [
        "**default indexing**"
      ],
      "metadata": {
        "id": "MjzMr_z03hvH"
      }
    },
    {
      "cell_type": "code",
      "source": [
        "#what is default indexing?\n",
        "#by deafuly start is 0, end is length of collection and step is 1\n",
        "l2 = ['apple','banana','pineapple','kiwi','orange','apple','banana','apple']\n",
        "#print 5 from above list\n",
        "# print(l2[8])\n",
        "# print(l2[:])\n",
        "# print(l2[::])\n",
        "print(l2[::2]) #o/p--> all the even elements\n",
        "print(l2[1::2]) #o/p all the odd elements"
      ],
      "metadata": {
        "colab": {
          "base_uri": "https://localhost:8080/"
        },
        "id": "YSbUm1GR3kDA",
        "outputId": "71c94a54-ecf2-4d34-ab88-fe6942a9238b"
      },
      "execution_count": null,
      "outputs": [
        {
          "output_type": "stream",
          "name": "stdout",
          "text": [
            "['apple', 'pineapple', 'orange', 'banana']\n",
            "['banana', 'kiwi', 'apple', 'apple']\n"
          ]
        }
      ]
    },
    {
      "cell_type": "code",
      "source": [
        "#reverse the above list l2\n",
        "print(l2[::-1])"
      ],
      "metadata": {
        "colab": {
          "base_uri": "https://localhost:8080/"
        },
        "id": "X3pozvu24GLG",
        "outputId": "bed19f27-aab7-4a9a-943e-369d2bde662c"
      },
      "execution_count": null,
      "outputs": [
        {
          "output_type": "stream",
          "name": "stdout",
          "text": [
            "['apple', 'banana', 'apple', 'orange', 'kiwi', 'pineapple', 'banana', 'apple']\n"
          ]
        }
      ]
    },
    {
      "cell_type": "markdown",
      "source": [
        "**list mutable**\n",
        "\n",
        "when we suppose to say a collection is mutable?\n",
        "\n",
        "--> if the collection is following 3 properties  then it is mutable\n",
        "1. replace or swap the items\n",
        "2. add the new item to existing list\n",
        "3. remove the items from existing list"
      ],
      "metadata": {
        "id": "ilTDcaou43bj"
      }
    },
    {
      "cell_type": "markdown",
      "source": [
        "**replace or swap the items from list**"
      ],
      "metadata": {
        "id": "2it0cW3l5x3c"
      }
    },
    {
      "cell_type": "code",
      "source": [
        "#How can we replace the items from list?\n",
        "#By using the index position numbers\n",
        "l3 = ['java','JS','R','Python','c','c++']\n",
        "#replace the js with java script\n",
        "l3[1]='javascript'\n",
        "print(l3)"
      ],
      "metadata": {
        "colab": {
          "base_uri": "https://localhost:8080/"
        },
        "id": "9B5SB78X5ATX",
        "outputId": "ebeba231-97d2-4427-a2fd-046190606090"
      },
      "execution_count": null,
      "outputs": [
        {
          "output_type": "stream",
          "name": "stdout",
          "text": [
            "['java', 'javascript', 'R', 'Python', 'c', 'c++']\n"
          ]
        }
      ]
    },
    {
      "cell_type": "code",
      "source": [
        "l3[1:3] = '.net','seasharp','nodejs'\n",
        "print(l3)"
      ],
      "metadata": {
        "colab": {
          "base_uri": "https://localhost:8080/"
        },
        "id": "ytieDBp26Qhx",
        "outputId": "9a11a61b-b02b-4f90-dfac-c14300ce5c47"
      },
      "execution_count": null,
      "outputs": [
        {
          "output_type": "stream",
          "name": "stdout",
          "text": [
            "['java', '.net', 'seasharp', 'nodejs', 'Python', 'c', 'c++']\n"
          ]
        }
      ]
    },
    {
      "cell_type": "markdown",
      "source": [
        "**Add the new items to the list**"
      ],
      "metadata": {
        "id": "7u-YgDx46vJa"
      }
    },
    {
      "cell_type": "code",
      "source": [
        "l4 = ['java', '.net', 'seasharp', 'nodejs', 'Python', 'c', 'c++']\n",
        "#we are some methods to add items to the list\n",
        "print(dir(l4))\n",
        "\"\"\"'append', 'clear', 'copy', 'count', 'extend',\n",
        "'index', 'insert', 'pop', 'remove', 'reverse', 'sort' \"\"\""
      ],
      "metadata": {
        "colab": {
          "base_uri": "https://localhost:8080/"
        },
        "id": "lw6sSbXj6d9N",
        "outputId": "3214b843-56eb-4669-bc33-21fc078ac732"
      },
      "execution_count": null,
      "outputs": [
        {
          "output_type": "stream",
          "name": "stdout",
          "text": [
            "['__add__', '__class__', '__class_getitem__', '__contains__', '__delattr__', '__delitem__', '__dir__', '__doc__', '__eq__', '__format__', '__ge__', '__getattribute__', '__getitem__', '__getstate__', '__gt__', '__hash__', '__iadd__', '__imul__', '__init__', '__init_subclass__', '__iter__', '__le__', '__len__', '__lt__', '__mul__', '__ne__', '__new__', '__reduce__', '__reduce_ex__', '__repr__', '__reversed__', '__rmul__', '__setattr__', '__setitem__', '__sizeof__', '__str__', '__subclasshook__', 'append', 'clear', 'copy', 'count', 'extend', 'index', 'insert', 'pop', 'remove', 'reverse', 'sort']\n"
          ]
        }
      ]
    },
    {
      "cell_type": "code",
      "source": [
        "#1.append():- by default it add the single element at the end of the list\n",
        "#q)what is default index position when we use append()?\n",
        "#end of the list\n",
        "#add 'mongo DB' in to above list.\n",
        "l4.append('Mongo DB')\n",
        "print(l4)"
      ],
      "metadata": {
        "colab": {
          "base_uri": "https://localhost:8080/"
        },
        "id": "Agn91knm77XI",
        "outputId": "435b6f57-e537-4391-a0ae-ce2369c32727"
      },
      "execution_count": null,
      "outputs": [
        {
          "output_type": "stream",
          "name": "stdout",
          "text": [
            "['java', '.net', 'seasharp', 'nodejs', 'Python', 'c', 'c++', 'Mongo DB']\n"
          ]
        }
      ]
    },
    {
      "cell_type": "code",
      "source": [
        "#2.insert(index,item):- is used add the item at specific index position\n",
        "l4.insert(3,'SQL')\n",
        "print(l4)\n",
        "#can i add multiple items by using insert method---> no"
      ],
      "metadata": {
        "colab": {
          "base_uri": "https://localhost:8080/"
        },
        "id": "8Olg6HF08Q9K",
        "outputId": "49c267c0-b854-45a7-b4c7-309aef53c1b6"
      },
      "execution_count": null,
      "outputs": [
        {
          "output_type": "stream",
          "name": "stdout",
          "text": [
            "['java', '.net', 'seasharp', 'SQL', 'nodejs', 'Python', 'c', 'c++', 'Mongo DB']\n"
          ]
        }
      ]
    },
    {
      "cell_type": "code",
      "source": [
        "#3.extend(collection_name):- adds the multiple items in to list\n",
        "l5 = [1,2,3,4,5]\n",
        "#add the l5 into l4\n",
        "l4.extend(l5)\n",
        "print(l4)"
      ],
      "metadata": {
        "colab": {
          "base_uri": "https://localhost:8080/"
        },
        "id": "9kVoLRjD8b6K",
        "outputId": "7574d0b6-692f-4be9-ba36-d6f5ddbe252b"
      },
      "execution_count": null,
      "outputs": [
        {
          "output_type": "stream",
          "name": "stdout",
          "text": [
            "['java', '.net', 'seasharp', 'SQL', 'nodejs', 'Python', 'c', 'c++', 'Mongo DB', 1, 2, 3, 4, 5]\n"
          ]
        }
      ]
    },
    {
      "cell_type": "markdown",
      "source": [
        "**remove the items from list**"
      ],
      "metadata": {
        "id": "5ZWzCwJs92hK"
      }
    },
    {
      "cell_type": "code",
      "source": [
        "l6 = ['java', '.net', 'seasharp', 'SQL', 'nodejs', 'Python', 'c', 'c++', 'Mongo DB', 1, 2, 3, 4, 5]\n",
        "#1.pop(index):by default it remove last element\n",
        "print(l6.pop())"
      ],
      "metadata": {
        "colab": {
          "base_uri": "https://localhost:8080/"
        },
        "id": "9QkpjE629rX-",
        "outputId": "6a5384c6-2cb9-4c95-9dcd-b70bcf608ed9"
      },
      "execution_count": null,
      "outputs": [
        {
          "output_type": "stream",
          "name": "stdout",
          "text": [
            "5\n"
          ]
        }
      ]
    },
    {
      "cell_type": "code",
      "source": [
        "print(l6)"
      ],
      "metadata": {
        "colab": {
          "base_uri": "https://localhost:8080/"
        },
        "id": "5J28NDTw-QRf",
        "outputId": "c576b1e2-78a6-4561-dd33-7c943a7e0133"
      },
      "execution_count": null,
      "outputs": [
        {
          "output_type": "stream",
          "name": "stdout",
          "text": [
            "['java', '.net', 'seasharp', 'SQL', 'nodejs', 'Python', 'c', 'c++', 'Mongo DB', 1, 2, 3, 4]\n"
          ]
        }
      ]
    },
    {
      "cell_type": "code",
      "source": [
        "print(l6.pop(-1))"
      ],
      "metadata": {
        "colab": {
          "base_uri": "https://localhost:8080/"
        },
        "id": "L7HW9-px-J8W",
        "outputId": "a5e93725-9f76-4802-bdad-b404e50051cd"
      },
      "execution_count": null,
      "outputs": [
        {
          "output_type": "stream",
          "name": "stdout",
          "text": [
            "4\n"
          ]
        }
      ]
    },
    {
      "cell_type": "code",
      "source": [
        "#remove(item_name):- by using name or identity of element it removes the item from list\n",
        "l6.remove('Mongo DB')\n",
        "print(l6)\n",
        "#can i remove the multiple items by usimg the remove()----> No"
      ],
      "metadata": {
        "colab": {
          "base_uri": "https://localhost:8080/"
        },
        "id": "PMssvzPU-Xcr",
        "outputId": "f6b23c91-0dcf-446f-f636-04e0952b66ad"
      },
      "execution_count": null,
      "outputs": [
        {
          "output_type": "stream",
          "name": "stdout",
          "text": [
            "['java', '.net', 'seasharp', 'SQL', 'nodejs', 'Python', 'c', 'c++', 1, 2, 3]\n"
          ]
        }
      ]
    },
    {
      "cell_type": "code",
      "source": [
        "#How can i remove the multiple items from list l6--> 'c', 'c++', 1, 2, 3\n",
        "del l6[6:]\n",
        "print(l6)"
      ],
      "metadata": {
        "colab": {
          "base_uri": "https://localhost:8080/"
        },
        "id": "noEVTcro-2OM",
        "outputId": "a0fd9161-3bb7-4a91-83a7-da3d4788d3a1"
      },
      "execution_count": null,
      "outputs": [
        {
          "output_type": "stream",
          "name": "stdout",
          "text": [
            "['java', '.net', 'seasharp', 'SQL', 'nodejs', 'Python']\n"
          ]
        }
      ]
    },
    {
      "cell_type": "code",
      "source": [
        "l6.index('seasharp')"
      ],
      "metadata": {
        "colab": {
          "base_uri": "https://localhost:8080/"
        },
        "id": "GDc9k1r1_HCB",
        "outputId": "c8bca609-b7f9-4770-e1a9-4c3050cabfa2"
      },
      "execution_count": null,
      "outputs": [
        {
          "output_type": "execute_result",
          "data": {
            "text/plain": [
              "2"
            ]
          },
          "metadata": {},
          "execution_count": 31
        }
      ]
    },
    {
      "cell_type": "code",
      "source": [
        "#remove all the items from the list and return empty list\n",
        "l6.clear()\n",
        "print(l6)"
      ],
      "metadata": {
        "colab": {
          "base_uri": "https://localhost:8080/"
        },
        "id": "8bSlErS8_V5J",
        "outputId": "e0452af6-ee60-4ecf-eedf-ad809772269d"
      },
      "execution_count": null,
      "outputs": [
        {
          "output_type": "stream",
          "name": "stdout",
          "text": [
            "[]\n"
          ]
        }
      ]
    },
    {
      "cell_type": "code",
      "source": [
        "#delete the list\n",
        "del l6\n",
        "print(l6)"
      ],
      "metadata": {
        "id": "hmyphWsz_mw-"
      },
      "execution_count": null,
      "outputs": []
    },
    {
      "cell_type": "markdown",
      "source": [
        "**sorting of list**"
      ],
      "metadata": {
        "id": "_KxrSP0y_2PU"
      }
    },
    {
      "cell_type": "code",
      "source": [
        "l = ['apple','banana','Apple','Ornage','kiwi','mango','pineapple','Watermelon']\n",
        "#sort the above list in ascending orderd\n",
        "l.sort()\n",
        "print(l)\n",
        "#How this sorting can be done?\n",
        "#sorting can be done based ASCII"
      ],
      "metadata": {
        "colab": {
          "base_uri": "https://localhost:8080/"
        },
        "id": "K8-NsxZG_6nL",
        "outputId": "fe29fb29-bcdc-4963-ac24-f6ba281e2960"
      },
      "execution_count": null,
      "outputs": [
        {
          "output_type": "stream",
          "name": "stdout",
          "text": [
            "['Apple', 'Ornage', 'Watermelon', 'apple', 'banana', 'kiwi', 'mango', 'pineapple']\n"
          ]
        }
      ]
    },
    {
      "cell_type": "code",
      "source": [
        "#PRINT IN descending order?\n",
        "l.sort(reverse=True)\n",
        "print(l)"
      ],
      "metadata": {
        "colab": {
          "base_uri": "https://localhost:8080/"
        },
        "id": "nM86Qc6DA0Pq",
        "outputId": "a5b49718-917a-427d-c665-051458099fbc"
      },
      "execution_count": null,
      "outputs": [
        {
          "output_type": "stream",
          "name": "stdout",
          "text": [
            "['pineapple', 'mango', 'kiwi', 'banana', 'apple', 'Watermelon', 'Ornage', 'Apple']\n"
          ]
        }
      ]
    },
    {
      "cell_type": "code",
      "source": [
        "l = [746,3635,36,282,363,254,978,3532,656,432]\n",
        "l.sort(reverse = True)\n",
        "print(l)"
      ],
      "metadata": {
        "colab": {
          "base_uri": "https://localhost:8080/"
        },
        "id": "ojfi1q2BA-m6",
        "outputId": "0e17eb42-2d13-42d1-a594-79f054d139c9"
      },
      "execution_count": null,
      "outputs": [
        {
          "output_type": "stream",
          "name": "stdout",
          "text": [
            "[3635, 3532, 978, 746, 656, 432, 363, 282, 254, 36]\n"
          ]
        }
      ]
    },
    {
      "cell_type": "code",
      "source": [],
      "metadata": {
        "id": "K36grdYlBFjU"
      },
      "execution_count": null,
      "outputs": []
    },
    {
      "cell_type": "markdown",
      "source": [
        "#15-05-2025"
      ],
      "metadata": {
        "id": "zud574Wh9TUJ"
      }
    },
    {
      "cell_type": "markdown",
      "source": [
        "**Tuple**"
      ],
      "metadata": {
        "id": "mnhPLhqG9W4K"
      }
    },
    {
      "cell_type": "code",
      "source": [
        "#what is tuple? define tuple or how can you declare a tuple\n",
        "#tuple is declared in ()\n",
        "#Tuple is defined as ordered, immutuablb and it allows duplicate data"
      ],
      "metadata": {
        "id": "Bl4T5kNh9d-l"
      },
      "execution_count": null,
      "outputs": []
    },
    {
      "cell_type": "markdown",
      "source": [
        "**Tuple allows duplicate data**"
      ],
      "metadata": {
        "id": "wJZflCr-91k4"
      }
    },
    {
      "cell_type": "code",
      "source": [
        "t1 = (1,2,3,4,5,6,7,8,1,2,3,4,5,6,7)\n",
        "print(len(t1))\n",
        "print(type(t1))\n",
        "print(t1)"
      ],
      "metadata": {
        "colab": {
          "base_uri": "https://localhost:8080/"
        },
        "id": "ZW96cqe194sO",
        "outputId": "5e4d5eb3-1c96-47cb-ea46-bce32ba56ec8"
      },
      "execution_count": null,
      "outputs": [
        {
          "output_type": "stream",
          "name": "stdout",
          "text": [
            "15\n",
            "<class 'tuple'>\n",
            "(1, 2, 3, 4, 5, 6, 7, 8, 1, 2, 3, 4, 5, 6, 7)\n"
          ]
        }
      ]
    },
    {
      "cell_type": "markdown",
      "source": [
        "**tuple is ordered**"
      ],
      "metadata": {
        "id": "L2ECoEqe-OsB"
      }
    },
    {
      "cell_type": "code",
      "source": [
        "t2 = ('apple','banana','mango','pineapple','kiwi','orange','apple')\n",
        "print(t2[3])"
      ],
      "metadata": {
        "colab": {
          "base_uri": "https://localhost:8080/"
        },
        "id": "p9vDaUZi-HJj",
        "outputId": "61b6a62f-601d-4ac3-86d1-e47cffe266ee"
      },
      "execution_count": null,
      "outputs": [
        {
          "output_type": "stream",
          "name": "stdout",
          "text": [
            "pineapple\n"
          ]
        }
      ]
    },
    {
      "cell_type": "code",
      "source": [
        "#access a range of fruits from 'banana','mango','pineapple','kiwi'\n",
        "print(t2[1:5])"
      ],
      "metadata": {
        "colab": {
          "base_uri": "https://localhost:8080/"
        },
        "id": "mdq1Xq_E-mCE",
        "outputId": "067e4190-3c71-4527-cdf5-9c2c1030335e"
      },
      "execution_count": null,
      "outputs": [
        {
          "output_type": "stream",
          "name": "stdout",
          "text": [
            "('banana', 'mango', 'pineapple', 'kiwi')\n"
          ]
        }
      ]
    },
    {
      "cell_type": "code",
      "source": [
        "print(t2[::-1])"
      ],
      "metadata": {
        "colab": {
          "base_uri": "https://localhost:8080/"
        },
        "id": "hbc5zZ9G-wfU",
        "outputId": "1a48bf98-28d0-47a9-c2f0-62ef7d2bca7d"
      },
      "execution_count": null,
      "outputs": [
        {
          "output_type": "stream",
          "name": "stdout",
          "text": [
            "('apple', 'orange', 'kiwi', 'pineapple', 'mango', 'banana', 'apple')\n"
          ]
        }
      ]
    },
    {
      "cell_type": "markdown",
      "source": [
        "**Tuple is immutable**"
      ],
      "metadata": {
        "id": "kUMdcSEX-4lu"
      }
    },
    {
      "cell_type": "code",
      "source": [
        "#in tuples we cannot replace, add and remove the items\n",
        "print(dir(t2))"
      ],
      "metadata": {
        "colab": {
          "base_uri": "https://localhost:8080/"
        },
        "id": "Ucag34Bn-7Aq",
        "outputId": "359095e2-fbb0-48fb-f2f4-4b2594705217"
      },
      "execution_count": null,
      "outputs": [
        {
          "output_type": "stream",
          "name": "stdout",
          "text": [
            "['__add__', '__class__', '__class_getitem__', '__contains__', '__delattr__', '__dir__', '__doc__', '__eq__', '__format__', '__ge__', '__getattribute__', '__getitem__', '__getnewargs__', '__getstate__', '__gt__', '__hash__', '__init__', '__init_subclass__', '__iter__', '__le__', '__len__', '__lt__', '__mul__', '__ne__', '__new__', '__reduce__', '__reduce_ex__', '__repr__', '__rmul__', '__setattr__', '__sizeof__', '__str__', '__subclasshook__', 'count', 'index']\n"
          ]
        }
      ]
    },
    {
      "cell_type": "code",
      "source": [
        "#Tuples are faster then the list?--> bcz tuple is immutable"
      ],
      "metadata": {
        "id": "LbjB_x1X_Cvp"
      },
      "execution_count": null,
      "outputs": []
    },
    {
      "cell_type": "code",
      "source": [
        "#How can we add the items or replace the items in tuple?\n",
        "#convert tuple into list\n",
        "t3 = ('apple', 'orange', 'kiwi', 'pineapple', 'mango', 'banana', 'apple')\n",
        "t_l = list(t3)\n",
        "print(t_l)"
      ],
      "metadata": {
        "colab": {
          "base_uri": "https://localhost:8080/"
        },
        "id": "rwf8pYhU_SuN",
        "outputId": "2beae98d-7ef3-41b1-9847-6548b37d0d16"
      },
      "execution_count": null,
      "outputs": [
        {
          "output_type": "stream",
          "name": "stdout",
          "text": [
            "['apple', 'orange', 'kiwi', 'pineapple', 'mango', 'banana', 'apple']\n"
          ]
        }
      ]
    },
    {
      "cell_type": "code",
      "source": [
        "t_l.append('watermelon')\n",
        "print(t_l)"
      ],
      "metadata": {
        "colab": {
          "base_uri": "https://localhost:8080/"
        },
        "id": "A1F3Hj74_hiE",
        "outputId": "ef598621-0323-4faf-d096-2155c89b6d0d"
      },
      "execution_count": null,
      "outputs": [
        {
          "output_type": "stream",
          "name": "stdout",
          "text": [
            "['apple', 'orange', 'kiwi', 'pineapple', 'mango', 'banana', 'apple', 'watermelon']\n"
          ]
        }
      ]
    },
    {
      "cell_type": "code",
      "source": [
        "t_l.insert(4,'grapes')\n",
        "print(t_l)"
      ],
      "metadata": {
        "colab": {
          "base_uri": "https://localhost:8080/"
        },
        "id": "iwcj0okC_o2U",
        "outputId": "90d9c1d3-cc69-4823-802d-76584f0d31b9"
      },
      "execution_count": null,
      "outputs": [
        {
          "output_type": "stream",
          "name": "stdout",
          "text": [
            "['apple', 'orange', 'kiwi', 'pineapple', 'grapes', 'mango', 'banana', 'apple', 'watermelon']\n"
          ]
        }
      ]
    },
    {
      "cell_type": "code",
      "source": [
        "l_t = tuple(t_l)\n",
        "print(l_t)"
      ],
      "metadata": {
        "colab": {
          "base_uri": "https://localhost:8080/"
        },
        "id": "jMwzLBWk_3gA",
        "outputId": "c868b556-c553-4f69-fcc3-43788e32cffe"
      },
      "execution_count": null,
      "outputs": [
        {
          "output_type": "stream",
          "name": "stdout",
          "text": [
            "('apple', 'orange', 'kiwi', 'pineapple', 'grapes', 'mango', 'banana', 'apple', 'watermelon')\n"
          ]
        }
      ]
    },
    {
      "cell_type": "code",
      "source": [
        "#when we need to use the tuple and list?\n",
        "#tuple is used to store valueble data where we are not making any changes in future\n",
        "#ex:- aadhar, pan, password,...etc\n",
        "#where we make changes in data in future we use list--> address,phone number"
      ],
      "metadata": {
        "id": "XLJ9lsA3_90o"
      },
      "execution_count": null,
      "outputs": []
    },
    {
      "cell_type": "markdown",
      "source": [
        "**SET**"
      ],
      "metadata": {
        "id": "lSLhqQzMAw4O"
      }
    },
    {
      "cell_type": "code",
      "source": [
        "#what is set? or define Set or ? How can we declare a set?\n",
        "#set is --> {}\n",
        "#set is defined as unordered, immutuable, and won't allow the duplicate data"
      ],
      "metadata": {
        "id": "l7M9c88NAzC4"
      },
      "execution_count": null,
      "outputs": []
    },
    {
      "cell_type": "markdown",
      "source": [
        "**set won't allow the duplicate data**"
      ],
      "metadata": {
        "id": "b7uuOP66BEyC"
      }
    },
    {
      "cell_type": "code",
      "source": [
        "s1 = {'apple', 'orange', 'kiwi', 'pineapple', 'grapes', 'mango', 'banana', 'apple', 'watermelon'}\n",
        "print(len(s1))\n",
        "print(s1)\n",
        "print(type(s1))"
      ],
      "metadata": {
        "colab": {
          "base_uri": "https://localhost:8080/"
        },
        "id": "dIFjxZBaBHx7",
        "outputId": "4c66aa60-11c0-4d83-db86-3d37a72432d9"
      },
      "execution_count": null,
      "outputs": [
        {
          "output_type": "stream",
          "name": "stdout",
          "text": [
            "8\n",
            "{'orange', 'watermelon', 'apple', 'banana', 'pineapple', 'mango', 'kiwi', 'grapes'}\n",
            "<class 'set'>\n"
          ]
        }
      ]
    },
    {
      "cell_type": "code",
      "source": [
        "s2 = {1,2,3,4,5,6,1,2,3,4,5,6}\n",
        "print(s2)"
      ],
      "metadata": {
        "colab": {
          "base_uri": "https://localhost:8080/"
        },
        "id": "fe3Y4jA_BhHi",
        "outputId": "eb0c296d-79b4-4bb5-bd45-c0606ebbefdb"
      },
      "execution_count": null,
      "outputs": [
        {
          "output_type": "stream",
          "name": "stdout",
          "text": [
            "{1, 2, 3, 4, 5, 6}\n"
          ]
        }
      ]
    },
    {
      "cell_type": "markdown",
      "source": [
        "**set is unordered**"
      ],
      "metadata": {
        "id": "7D1A4-Q1CCjI"
      }
    },
    {
      "cell_type": "code",
      "source": [
        "#element or items in the set doesn't have index position numbers\n",
        "s3 = {'orange', 'watermelon', 'apple', 'banana', 'pineapple', 'mango', 'kiwi', 'grapes'}\n",
        "print(s3[2])\n"
      ],
      "metadata": {
        "id": "_1d57aw0CFSr"
      },
      "execution_count": null,
      "outputs": []
    },
    {
      "cell_type": "markdown",
      "source": [
        "**Set is immutable**"
      ],
      "metadata": {
        "id": "znpog7gDCmIs"
      }
    },
    {
      "cell_type": "code",
      "source": [
        "#in sets we cannot replace or swap the datapoints but we can add and remove the items from the set\n",
        "#why we cannot replace the items in set ?\n",
        "#-->set is unordered"
      ],
      "metadata": {
        "id": "VhC8vd2YCov6"
      },
      "execution_count": null,
      "outputs": []
    },
    {
      "cell_type": "markdown",
      "source": [
        "**adding methods in set**"
      ],
      "metadata": {
        "id": "DLc-YumMC_co"
      }
    },
    {
      "cell_type": "code",
      "source": [
        "s4 = {'orange', 'watermelon', 'apple', 'banana', 'pineapple', 'mango', 'kiwi', 'grapes'}\n",
        "#1.add():- is used to add element in set\n",
        "s4.add(5.5)\n",
        "print(s4)\n",
        "#by using the add() can we add multiple items at a time--> No"
      ],
      "metadata": {
        "colab": {
          "base_uri": "https://localhost:8080/"
        },
        "id": "e5gw06YFDCQg",
        "outputId": "6c9ccfdf-2723-46a4-cc9d-49e0522f3fb0"
      },
      "execution_count": null,
      "outputs": [
        {
          "output_type": "stream",
          "name": "stdout",
          "text": [
            "{'orange', 'watermelon', 'apple', 'banana', 5.5, 'pineapple', 'mango', 'kiwi', 'grapes'}\n"
          ]
        }
      ]
    },
    {
      "cell_type": "code",
      "source": [
        "print(dir(s4))\n",
        "\"\"\"'add', 'clear', 'copy', 'difference', 'difference_update', 'discard', 'intersection',\n",
        " 'intersection_update', 'isdisjoint', 'issubset',\n",
        "'issuperset', 'pop', 'remove', 'symmetric_difference', 'symmetric_difference_update',\n",
        "'union', 'update' \"\"\""
      ],
      "metadata": {
        "colab": {
          "base_uri": "https://localhost:8080/"
        },
        "id": "wf_QUGXaDaCk",
        "outputId": "3eb0bd90-6ecb-46ec-ebf9-76c811afe96c"
      },
      "execution_count": null,
      "outputs": [
        {
          "output_type": "stream",
          "name": "stdout",
          "text": [
            "['__and__', '__class__', '__class_getitem__', '__contains__', '__delattr__', '__dir__', '__doc__', '__eq__', '__format__', '__ge__', '__getattribute__', '__getstate__', '__gt__', '__hash__', '__iand__', '__init__', '__init_subclass__', '__ior__', '__isub__', '__iter__', '__ixor__', '__le__', '__len__', '__lt__', '__ne__', '__new__', '__or__', '__rand__', '__reduce__', '__reduce_ex__', '__repr__', '__ror__', '__rsub__', '__rxor__', '__setattr__', '__sizeof__', '__str__', '__sub__', '__subclasshook__', '__xor__', 'add', 'clear', 'copy', 'difference', 'difference_update', 'discard', 'intersection', 'intersection_update', 'isdisjoint', 'issubset', 'issuperset', 'pop', 'remove', 'symmetric_difference', 'symmetric_difference_update', 'union', 'update']\n"
          ]
        }
      ]
    },
    {
      "cell_type": "code",
      "source": [
        "#update():- is used add multiple items to the set  from other collections\n",
        "l = [1,2,3,4,5,1,1,3,4,5]\n",
        "#add the list of numbers in s4\n",
        "s4.update(l)\n",
        "print(s4)"
      ],
      "metadata": {
        "colab": {
          "base_uri": "https://localhost:8080/"
        },
        "id": "aJZW7ruzDk39",
        "outputId": "5441ce8e-487f-4e70-ca64-34faf8764e9f"
      },
      "execution_count": null,
      "outputs": [
        {
          "output_type": "stream",
          "name": "stdout",
          "text": [
            "{'orange', 1, 'watermelon', 2, 'apple', 'banana', 5.5, 3, 4, 'pineapple', 5, 'mango', 'kiwi', 'grapes'}\n"
          ]
        }
      ]
    },
    {
      "cell_type": "markdown",
      "source": [
        "**remove the items from set**"
      ],
      "metadata": {
        "id": "JI3DfC7aEL3c"
      }
    },
    {
      "cell_type": "code",
      "source": [
        "#pop():- is bad practice\n",
        "s4.pop()\n",
        "print(s4)"
      ],
      "metadata": {
        "colab": {
          "base_uri": "https://localhost:8080/"
        },
        "id": "JfD2Lb1tEPDm",
        "outputId": "23f928cc-222a-499f-becf-62681d73b02e"
      },
      "execution_count": null,
      "outputs": [
        {
          "output_type": "stream",
          "name": "stdout",
          "text": [
            "{1, 'watermelon', 2, 'apple', 'banana', 5.5, 3, 4, 'pineapple', 5, 'mango', 'kiwi', 'grapes'}\n"
          ]
        }
      ]
    },
    {
      "cell_type": "code",
      "source": [
        "#remove('name_ite')\n",
        "s4.remove('watermelon')\n",
        "print(s4)"
      ],
      "metadata": {
        "colab": {
          "base_uri": "https://localhost:8080/"
        },
        "id": "I31MDGFXE-8z",
        "outputId": "a701802c-b6d7-43e2-c34a-5513bd204e41"
      },
      "execution_count": null,
      "outputs": [
        {
          "output_type": "stream",
          "name": "stdout",
          "text": [
            "{'orange', 'apple', 'banana', 5.5, 'pineapple', 'mango', 'kiwi', 'grapes'}\n"
          ]
        }
      ]
    },
    {
      "cell_type": "code",
      "source": [
        "s4.remove('watermelon')\n",
        "print(s4)"
      ],
      "metadata": {
        "id": "mm1xD9HcFLr8"
      },
      "execution_count": null,
      "outputs": []
    },
    {
      "cell_type": "code",
      "source": [
        "#discard('item_name):- similar to remove\n",
        "s4.discard('mango')\n",
        "print(s4)"
      ],
      "metadata": {
        "colab": {
          "base_uri": "https://localhost:8080/"
        },
        "id": "Kcbd3jqJFXX6",
        "outputId": "1ac73a2d-ddc7-4be3-df8d-36fa4b24a751"
      },
      "execution_count": null,
      "outputs": [
        {
          "output_type": "stream",
          "name": "stdout",
          "text": [
            "{'orange', 'apple', 'banana', 5.5, 'pineapple', 'kiwi', 'grapes'}\n"
          ]
        }
      ]
    },
    {
      "cell_type": "code",
      "source": [
        "#what is the difference between remove and discard\n",
        "s4.discard('watermelon')\n",
        "print(s4)"
      ],
      "metadata": {
        "colab": {
          "base_uri": "https://localhost:8080/"
        },
        "id": "uw4c-HwAFkIS",
        "outputId": "b4cda991-a370-4ed3-a562-48f29930c0fe"
      },
      "execution_count": null,
      "outputs": [
        {
          "output_type": "stream",
          "name": "stdout",
          "text": [
            "{'orange', 'apple', 'banana', 5.5, 'pineapple', 'kiwi', 'grapes'}\n"
          ]
        }
      ]
    },
    {
      "cell_type": "code",
      "source": [
        "#remove() if the datapoint existit remove the data point else it rises and error\n",
        "#discard() if the datapoint exist or not it wont rise an error"
      ],
      "metadata": {
        "id": "z0TskToaF0Ih"
      },
      "execution_count": null,
      "outputs": []
    },
    {
      "cell_type": "code",
      "source": [
        "s4.clear()\n",
        "print(s4)"
      ],
      "metadata": {
        "colab": {
          "base_uri": "https://localhost:8080/"
        },
        "id": "lbqHTNxMGC1A",
        "outputId": "3eb628be-0b97-4542-b18c-d8232f9a4a42"
      },
      "execution_count": null,
      "outputs": [
        {
          "output_type": "stream",
          "name": "stdout",
          "text": [
            "set()\n"
          ]
        }
      ]
    },
    {
      "cell_type": "code",
      "source": [
        "#set is faster then the list, tuple?--> becuse it is unordered and immutable"
      ],
      "metadata": {
        "id": "dwDZuVvrGE0r"
      },
      "execution_count": null,
      "outputs": []
    },
    {
      "cell_type": "code",
      "source": [
        "seta = {'a','b','c','d'}\n",
        "setb = {}\n",
        "#union , intersection\n",
        "print(seta.union(setb))\n"
      ],
      "metadata": {
        "colab": {
          "base_uri": "https://localhost:8080/"
        },
        "id": "f4GJzXS4GnrI",
        "outputId": "02756ba9-32dc-4c3b-8cbe-a263cb9c569c"
      },
      "execution_count": null,
      "outputs": [
        {
          "output_type": "stream",
          "name": "stdout",
          "text": [
            "{'b', 'd', 'c', 'a'}\n"
          ]
        }
      ]
    },
    {
      "cell_type": "code",
      "source": [
        "#intersection()\n",
        "print(seta.intersection(setb))"
      ],
      "metadata": {
        "colab": {
          "base_uri": "https://localhost:8080/"
        },
        "id": "9p3nyA0RG6hW",
        "outputId": "cee9f414-9e44-4866-c620-cc8807339aab"
      },
      "execution_count": null,
      "outputs": [
        {
          "output_type": "stream",
          "name": "stdout",
          "text": [
            "{'d'}\n"
          ]
        }
      ]
    },
    {
      "cell_type": "code",
      "source": [
        "print(seta.isdisjoint(setb))"
      ],
      "metadata": {
        "colab": {
          "base_uri": "https://localhost:8080/"
        },
        "id": "5mqSqJnnJpvC",
        "outputId": "0e556c19-1432-4eb9-d6f1-e0a1bab7cb3f"
      },
      "execution_count": null,
      "outputs": [
        {
          "output_type": "stream",
          "name": "stdout",
          "text": [
            "True\n"
          ]
        }
      ]
    },
    {
      "cell_type": "code",
      "source": [
        "seta.isdisjoint()"
      ],
      "metadata": {
        "id": "_iHkHiX8PGYb"
      },
      "execution_count": null,
      "outputs": []
    },
    {
      "cell_type": "markdown",
      "source": [
        "**dictionary**"
      ],
      "metadata": {
        "id": "LBmWzl2KJ5ma"
      }
    },
    {
      "cell_type": "code",
      "source": [
        "#what is dict or define dict or how can we  declare dict?\n",
        "#dict--> {key:value}\n",
        "#how the data can be stored in the dictionary in key:value pair\n",
        "#dictionary is defined unordered, mutable, and wont allow the duplicate data"
      ],
      "metadata": {
        "id": "FA18JysgKBRB"
      },
      "execution_count": null,
      "outputs": []
    },
    {
      "cell_type": "markdown",
      "source": [
        "**dictionary wont allow the duplicate data**"
      ],
      "metadata": {
        "id": "h9xz1lsYKdn6"
      }
    },
    {
      "cell_type": "code",
      "source": [
        "d1 = {\n",
        "    \"name\": \"shahul\",\n",
        "    \"gender\":'Male',\n",
        "    \"Age\":29,\n",
        "    \"education\":\"masters\",\n",
        "    \"education\":\"B.tech\"\n",
        "}\n",
        "print(len(d1))\n",
        "print(d1)\n",
        "print(type(d1))"
      ],
      "metadata": {
        "colab": {
          "base_uri": "https://localhost:8080/"
        },
        "id": "5muM1xArKh8j",
        "outputId": "557e80e6-51ff-4510-f012-33e78f413b2b"
      },
      "execution_count": null,
      "outputs": [
        {
          "output_type": "stream",
          "name": "stdout",
          "text": [
            "4\n",
            "{'name': 'shahul', 'gender': 'Male', 'Age': 29, 'education': 'B.tech'}\n",
            "<class 'dict'>\n"
          ]
        }
      ]
    },
    {
      "cell_type": "markdown",
      "source": [
        "**dictionary is unordered**"
      ],
      "metadata": {
        "id": "zH9mmwwoLKyp"
      }
    },
    {
      "cell_type": "code",
      "source": [
        "#key:value pairs doesn't have index position numbers\n",
        "#How can we access the data from the dictionary?\n",
        "#using key names"
      ],
      "metadata": {
        "id": "URWADqHBKp2h"
      },
      "execution_count": null,
      "outputs": []
    },
    {
      "cell_type": "code",
      "source": [
        "print(d1['name'])"
      ],
      "metadata": {
        "colab": {
          "base_uri": "https://localhost:8080/"
        },
        "id": "DXawoJMjLQ1Q",
        "outputId": "7fcea27b-6d35-4495-9cdf-7f780ff930c1"
      },
      "execution_count": null,
      "outputs": [
        {
          "output_type": "stream",
          "name": "stdout",
          "text": [
            "shahul\n"
          ]
        }
      ]
    },
    {
      "cell_type": "code",
      "source": [
        "#print the multiple keys\n",
        "print(d1['name'],d1['Age'],d1['education'])"
      ],
      "metadata": {
        "colab": {
          "base_uri": "https://localhost:8080/"
        },
        "id": "4myQTd34Liln",
        "outputId": "1a69aebf-cc23-4967-853c-c6d2e6a18876"
      },
      "execution_count": null,
      "outputs": [
        {
          "output_type": "stream",
          "name": "stdout",
          "text": [
            "shahul 29 B.tech\n"
          ]
        }
      ]
    },
    {
      "cell_type": "markdown",
      "source": [
        "**dictionary is mutable**"
      ],
      "metadata": {
        "id": "gcUq8h_OL7qQ"
      }
    },
    {
      "cell_type": "markdown",
      "source": [
        "**Replace the values in dictionary**"
      ],
      "metadata": {
        "id": "diX-dq-MMA3n"
      }
    },
    {
      "cell_type": "code",
      "source": [
        "d1 = {\n",
        "    \"name\": \"shahul\",\n",
        "    \"gender\":'Male',\n",
        "    \"Age\":29,\n",
        "    \"education\":\"B.tech\"\n",
        "}\n",
        "d1['education'] = 'Masters in DS'\n",
        "print(d1)"
      ],
      "metadata": {
        "colab": {
          "base_uri": "https://localhost:8080/"
        },
        "id": "iZdWEQ7DMElc",
        "outputId": "974b9aeb-ddc8-4812-d378-15af0dd787a8"
      },
      "execution_count": null,
      "outputs": [
        {
          "output_type": "stream",
          "name": "stdout",
          "text": [
            "{'name': 'shahul', 'gender': 'Male', 'Age': 29, 'education': 'Masters in DS'}\n"
          ]
        }
      ]
    },
    {
      "cell_type": "markdown",
      "source": [
        "**add the items in the dictionary**"
      ],
      "metadata": {
        "id": "hgTBViclMUdH"
      }
    },
    {
      "cell_type": "code",
      "source": [
        "d1['fruits'] = ['apple','banana','mango','kiwi']\n",
        "print(d1)"
      ],
      "metadata": {
        "colab": {
          "base_uri": "https://localhost:8080/"
        },
        "id": "ZQXALYebMQIh",
        "outputId": "4d5b121e-edba-4a11-d23b-8d20c656778c"
      },
      "execution_count": null,
      "outputs": [
        {
          "output_type": "stream",
          "name": "stdout",
          "text": [
            "{'name': 'shahul', 'gender': 'Male', 'Age': 29, 'education': 'Masters in DS', 'fruits': ['apple', 'banana', 'mango', 'kiwi']}\n"
          ]
        }
      ]
    },
    {
      "cell_type": "code",
      "source": [
        "#print the \"mango\" from above dictionary\n",
        "print(d1['fruits'][2])"
      ],
      "metadata": {
        "colab": {
          "base_uri": "https://localhost:8080/"
        },
        "id": "7gSLYQDFMg-B",
        "outputId": "c07f8de1-e832-462f-fca8-d7fa6590e423"
      },
      "execution_count": null,
      "outputs": [
        {
          "output_type": "stream",
          "name": "stdout",
          "text": [
            "mango\n"
          ]
        }
      ]
    }
  ],
  "metadata": {
    "colab": {
      "provenance": []
    },
    "kernelspec": {
      "display_name": "Python 3",
      "name": "python3"
    },
    "language_info": {
      "name": "python"
    }
  },
  "nbformat": 4,
  "nbformat_minor": 0
}